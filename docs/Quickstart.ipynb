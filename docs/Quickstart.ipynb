{
 "cells": [
  {
   "cell_type": "markdown",
   "id": "ea3d6be5-b9ee-4375-adee-8fa2cb690fca",
   "metadata": {},
   "source": [
    "# Quickstart"
   ]
  },
  {
   "cell_type": "code",
   "execution_count": null,
   "id": "697e4c2b",
   "metadata": {},
   "outputs": [],
   "source": [
    "from mqt.bench import get_benchmark\n",
    "\n",
    "from mqt.predictor import qcompile"
   ]
  },
  {
   "cell_type": "markdown",
   "id": "02841c4f-a865-452d-a5ca-085a64eccf00",
   "metadata": {},
   "source": [
    "## Generate Uncompiled Quantum Circuit"
   ]
  },
  {
   "cell_type": "code",
   "execution_count": null,
   "id": "73c0a2f9-adbd-4f85-8843-b6ab2ef53da8",
   "metadata": {},
   "outputs": [],
   "source": [
    "qc = get_benchmark(\"ghz\", level=\"indep\", circuit_size=5)\n",
    "qc.draw()"
   ]
  },
  {
   "cell_type": "code",
   "execution_count": null,
   "id": "6ebf087c-b03f-4050-b452-ecf9d698f5e7",
   "metadata": {},
   "outputs": [],
   "source": [
    "qc_compiled, compilation_information, quantum_device = qcompile(qc, figure_of_merit=\"expected_fidelity\")"
   ]
  },
  {
   "cell_type": "markdown",
   "id": "dc5b2a05-c062-46d8-b75e-2bfde4795a19",
   "metadata": {},
   "source": [
    "## Predicted Device"
   ]
  },
  {
   "cell_type": "code",
   "execution_count": null,
   "id": "b3f643db-f833-433c-87f8-65cdc5355304",
   "metadata": {},
   "outputs": [],
   "source": [
    "print(quantum_device)"
   ]
  },
  {
   "cell_type": "markdown",
   "id": "7b823498-55e1-47df-9b7b-f5f462f38c50",
   "metadata": {},
   "source": [
    "## Predicted and Conducted Compilation Passes"
   ]
  },
  {
   "cell_type": "code",
   "execution_count": null,
   "id": "0c327466-7905-45b9-980a-f96ca8cffadb",
   "metadata": {},
   "outputs": [],
   "source": [
    "print(compilation_information)"
   ]
  },
  {
   "cell_type": "markdown",
   "id": "53953b24-353e-465e-b4f4-d7c0f2f0f0bf",
   "metadata": {},
   "source": [
    "## Compiled Circuit"
   ]
  },
  {
   "cell_type": "code",
   "execution_count": null,
   "id": "fe643f31-9d3e-4b7f-875a-af27e3dab5ed",
   "metadata": {},
   "outputs": [],
   "source": [
    "qc_compiled.draw()"
   ]
  }
 ],
 "metadata": {
  "kernelspec": {
   "display_name": "Python 3 (ipykernel)",
   "language": "python",
   "name": "python3"
  },
  "language_info": {
   "codemirror_mode": {
    "name": "ipython",
    "version": 3
   },
   "file_extension": ".py",
   "mimetype": "text/x-python",
   "name": "python",
   "nbconvert_exporter": "python",
   "pygments_lexer": "ipython3"
  }
 },
 "nbformat": 4,
 "nbformat_minor": 5
}
